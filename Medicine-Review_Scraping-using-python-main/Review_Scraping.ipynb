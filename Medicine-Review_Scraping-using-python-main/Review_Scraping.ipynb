{
 "cells": [
  {
   "cell_type": "code",
   "execution_count": 1,
   "metadata": {},
   "outputs": [],
   "source": [
    "#Importing libraries\n",
    "from selenium import webdriver\n",
    "from selenium.webdriver.chrome.options import Options\n",
    "from selenium.webdriver.common.by import By\n",
    "from selenium.webdriver.support.ui import WebDriverWait\n",
    "from selenium.webdriver.support import expected_conditions as EC\n",
    "from bs4 import BeautifulSoup\n",
    "import pandas as pd"
   ]
  },
  {
   "cell_type": "code",
   "execution_count": 2,
   "metadata": {},
   "outputs": [],
   "source": [
    "#url of the page from where we scrap the data\n",
    "PageUrl= \"https://www.drugs.com/comments/sertraline/zoloft.html?page={}\"\n",
    "#https://www.drugs.com/comments/etonogestrel/nexplanon.html?page={} "
   ]
  },
  {
   "cell_type": "code",
   "execution_count": 3,
   "metadata": {},
   "outputs": [],
   "source": [
    "#It will open chrome browser\n",
    "options = Options()\n",
    "Driver = webdriver.Chrome()\n",
    "\n",
    "# Driver = webdriver.Chrome(\"C:\\chromedriver_win32\\chromedriver.exe\")"
   ]
  },
  {
   "cell_type": "code",
   "execution_count": 4,
   "metadata": {},
   "outputs": [],
   "source": [
    "## Data we want to collect (Store)\n",
    "Medicine_Name=[]\n",
    "Condition =[]\n",
    "Review=[]\n",
    "rating=[]\n",
    "date=[]\n",
    "usefulCount=[]"
   ]
  },
  {
   "cell_type": "code",
   "execution_count": 5,
   "metadata": {},
   "outputs": [
    {
     "ename": "AttributeError",
     "evalue": "'WebDriver' object has no attribute 'find_elements_by_class_name'",
     "output_type": "error",
     "traceback": [
      "\u001b[1;31m---------------------------------------------------------------------------\u001b[0m",
      "\u001b[1;31mAttributeError\u001b[0m                            Traceback (most recent call last)",
      "Cell \u001b[1;32mIn[5], line 5\u001b[0m\n\u001b[0;32m      3\u001b[0m cards \u001b[38;5;241m=\u001b[39m \u001b[38;5;28;01mNone\u001b[39;00m\n\u001b[0;32m      4\u001b[0m \u001b[38;5;28;01mwhile\u001b[39;00m \u001b[38;5;28;01mTrue\u001b[39;00m:\n\u001b[1;32m----> 5\u001b[0m     cards \u001b[38;5;241m=\u001b[39m \u001b[43mDriver\u001b[49m\u001b[38;5;241;43m.\u001b[39;49m\u001b[43mfind_elements_by_class_name\u001b[49m(\u001b[38;5;124m\"\u001b[39m\u001b[38;5;124mddc-comment\u001b[39m\u001b[38;5;124m\"\u001b[39m)\n\u001b[0;32m      6\u001b[0m     \u001b[38;5;28;01mbreak\u001b[39;00m\n\u001b[0;32m      8\u001b[0m \u001b[38;5;28;01mfor\u001b[39;00m card \u001b[38;5;129;01min\u001b[39;00m cards:\n",
      "\u001b[1;31mAttributeError\u001b[0m: 'WebDriver' object has no attribute 'find_elements_by_class_name'"
     ]
    }
   ],
   "source": [
    "for pageNum in range(0,26, 1):\n",
    "    Driver.get(PageUrl.format(pageNum))\n",
    "    cards = None\n",
    "    while True:\n",
    "        cards = Driver.find_elements_by_class_name(\"ddc-comment\")\n",
    "        break\n",
    "        \n",
    "    for card in cards:\n",
    "        details = BeautifulSoup(card.get_attribute('innerHTML'), 'html.parser')\n",
    "        \n",
    "        try:\n",
    "            r_date = details.find(class_ = \"comment-date\").text.replace(\"\\n\", \"\").strip()\n",
    "            date.append(r_date)\n",
    "        except:\n",
    "            date.append(None)\n",
    "            \n",
    "        \n",
    "        try:\n",
    "            review1 = details.find(class_ = \"ddc-comment-content\")\n",
    "            review2 = str(review1) \n",
    "            b_Sfind = review2.find(\"<b>\")\n",
    "            b_Start=b_Sfind+3\n",
    "            b_Efind = review2.find(\"</b>\")\n",
    "            b_End=b_Efind-1\n",
    "            r_Start=b_Efind+4\n",
    "            p_Efind = review2.find(\"</p>\")\n",
    "            p_End=p_Efind-1\n",
    "            review = ''.join([sub for sub in review2])[r_Start : p_End]\n",
    "            review=review.replace(\"\\n\",\"\")\n",
    "            review=review.replace(\"\\t\",\"\")\n",
    "            \n",
    "            condition = ''.join([sub for sub in review2])[b_Start : b_End] \n",
    "            Condition.append(condition)\n",
    "            Review.append(review)\n",
    "            \n",
    "        except:\n",
    "            Condition.append(None)\n",
    "            Review.append(None)\n",
    "            \n",
    "        try:\n",
    "            r_rating = details.find(class_ = \"ddc-rating-summary\")\n",
    "            Rating = str(r_rating) \n",
    "            rb_Sfind = Rating.find(\"<b>\")\n",
    "            rb_Start=rb_Sfind+3\n",
    "            rb_Efind = Rating.find(\"</b>\")\n",
    "            Rating1 = ''.join([sub for sub in Rating])[rb_Start : rb_Efind]\n",
    "            Ranting2=int(Rating1)\n",
    "            rating.append(Ranting2)\n",
    "        except:\n",
    "            rating.append(None)\n",
    "            \n",
    "        try:\n",
    "            Count = details.findAll(class_=\"ddc-comment-actions\")\n",
    "            Count1 = str(Count) \n",
    "            c_Sfind = Count1.find(\"</svg>\")\n",
    "            c_Start=c_Sfind+6\n",
    "            c_Efind = Count1.find(\"</span>\")\n",
    "            c_End=c_Efind-5\n",
    "            Count2 = ''.join([sub for sub in Count1])[c_Start : c_End]\n",
    "            Count3=int(Count2)\n",
    "            usefulCount.append(Count3)\n",
    "        except:\n",
    "            usefulCount.append(None)\n",
    "        \n",
    "        try:\n",
    "            Medicine_Name.append(\"Zoloft\")\n",
    "        except:\n",
    "            Medicine_Name.append(None)\n"
   ]
  },
  {
   "cell_type": "code",
   "execution_count": null,
   "metadata": {},
   "outputs": [],
   "source": [
    "#Here we store our scraped data into dataframe\n",
    "df = pd.DataFrame({\n",
    "    \"Medicine Name\":Medicine_Name,\n",
    "    \"Condition\":Condition,\n",
    "    \"Review\":Review,\n",
    "    \"rating\":rating,\n",
    "    \"date\":date,\n",
    "    \"usefulCount\":usefulCount\n",
    "    \n",
    "})\n"
   ]
  },
  {
   "cell_type": "code",
   "execution_count": null,
   "metadata": {},
   "outputs": [
    {
     "data": {
      "text/html": [
       "<div>\n",
       "<style scoped>\n",
       "    .dataframe tbody tr th:only-of-type {\n",
       "        vertical-align: middle;\n",
       "    }\n",
       "\n",
       "    .dataframe tbody tr th {\n",
       "        vertical-align: top;\n",
       "    }\n",
       "\n",
       "    .dataframe thead th {\n",
       "        text-align: right;\n",
       "    }\n",
       "</style>\n",
       "<table border=\"1\" class=\"dataframe\">\n",
       "  <thead>\n",
       "    <tr style=\"text-align: right;\">\n",
       "      <th></th>\n",
       "      <th>Medicine Name</th>\n",
       "      <th>Condition</th>\n",
       "      <th>Review</th>\n",
       "      <th>rating</th>\n",
       "      <th>date</th>\n",
       "      <th>usefulCount</th>\n",
       "    </tr>\n",
       "  </thead>\n",
       "  <tbody>\n",
       "    <tr>\n",
       "      <th>0</th>\n",
       "      <td>Zoloft</td>\n",
       "      <td>For Obsessive Compulsive Disorder</td>\n",
       "      <td>“I've been taking Zoloft/Sertraline for 8 mont...</td>\n",
       "      <td>5.0</td>\n",
       "      <td>February 9, 2021</td>\n",
       "      <td>0</td>\n",
       "    </tr>\n",
       "    <tr>\n",
       "      <th>1</th>\n",
       "      <td>Zoloft</td>\n",
       "      <td>For Social Anxiety Disorder</td>\n",
       "      <td>“It was a rollercoaster of misery before Zolof...</td>\n",
       "      <td>7.0</td>\n",
       "      <td>February 8, 2021</td>\n",
       "      <td>1</td>\n",
       "    </tr>\n",
       "    <tr>\n",
       "      <th>2</th>\n",
       "      <td>Zoloft</td>\n",
       "      <td>For Post Traumatic Stress Disorder</td>\n",
       "      <td>“Zoloft induces tinnitus. Your psych will blam...</td>\n",
       "      <td>1.0</td>\n",
       "      <td>February 8, 2021</td>\n",
       "      <td>2</td>\n",
       "    </tr>\n",
       "    <tr>\n",
       "      <th>3</th>\n",
       "      <td>Zoloft</td>\n",
       "      <td>For Panic Disorder</td>\n",
       "      <td>“I tried Zoloft for less than a week (for anxi...</td>\n",
       "      <td>1.0</td>\n",
       "      <td>February 5, 2021</td>\n",
       "      <td>0</td>\n",
       "    </tr>\n",
       "    <tr>\n",
       "      <th>4</th>\n",
       "      <td>Zoloft</td>\n",
       "      <td>For Panic Disorder</td>\n",
       "      <td>“Everyone is different and med effects everyon...</td>\n",
       "      <td>6.0</td>\n",
       "      <td>February 5, 2021</td>\n",
       "      <td>0</td>\n",
       "    </tr>\n",
       "  </tbody>\n",
       "</table>\n",
       "</div>"
      ],
      "text/plain": [
       "  Medicine Name                           Condition  \\\n",
       "0        Zoloft   For Obsessive Compulsive Disorder   \n",
       "1        Zoloft         For Social Anxiety Disorder   \n",
       "2        Zoloft  For Post Traumatic Stress Disorder   \n",
       "3        Zoloft                  For Panic Disorder   \n",
       "4        Zoloft                  For Panic Disorder   \n",
       "\n",
       "                                              Review  rating  \\\n",
       "0  “I've been taking Zoloft/Sertraline for 8 mont...     5.0   \n",
       "1  “It was a rollercoaster of misery before Zolof...     7.0   \n",
       "2  “Zoloft induces tinnitus. Your psych will blam...     1.0   \n",
       "3  “I tried Zoloft for less than a week (for anxi...     1.0   \n",
       "4  “Everyone is different and med effects everyon...     6.0   \n",
       "\n",
       "               date  usefulCount  \n",
       "0  February 9, 2021            0  \n",
       "1  February 8, 2021            1  \n",
       "2  February 8, 2021            2  \n",
       "3  February 5, 2021            0  \n",
       "4  February 5, 2021            0  "
      ]
     },
     "execution_count": 7,
     "metadata": {},
     "output_type": "execute_result"
    }
   ],
   "source": [
    "df.head()"
   ]
  },
  {
   "cell_type": "code",
   "execution_count": null,
   "metadata": {},
   "outputs": [],
   "source": [
    "df.to_csv('Zoloft.csv')"
   ]
  },
  {
   "cell_type": "code",
   "execution_count": null,
   "metadata": {},
   "outputs": [],
   "source": [
    "#Nexplanon"
   ]
  }
 ],
 "metadata": {
  "kernelspec": {
   "display_name": "Python 3",
   "language": "python",
   "name": "python3"
  },
  "language_info": {
   "codemirror_mode": {
    "name": "ipython",
    "version": 3
   },
   "file_extension": ".py",
   "mimetype": "text/x-python",
   "name": "python",
   "nbconvert_exporter": "python",
   "pygments_lexer": "ipython3",
   "version": "3.12.2"
  }
 },
 "nbformat": 4,
 "nbformat_minor": 4
}
